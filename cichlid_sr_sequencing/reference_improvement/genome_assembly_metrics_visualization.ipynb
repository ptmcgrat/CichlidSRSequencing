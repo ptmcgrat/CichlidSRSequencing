{
 "cells": [
  {
   "cell_type": "markdown",
   "id": "c00d8821",
   "metadata": {},
   "source": [
    "## Genome Assembly Metrics Visualization"
   ]
  },
  {
   "cell_type": "markdown",
   "id": "099a4688",
   "metadata": {},
   "source": [
    "### Importing Libraries"
   ]
  },
  {
   "cell_type": "code",
   "execution_count": 1,
   "id": "0e5e142d",
   "metadata": {},
   "outputs": [],
   "source": [
    "import matplotlib.pyplot as plt\n",
    "import seaborn as sns"
   ]
  },
  {
   "cell_type": "markdown",
   "id": "367c9b6a",
   "metadata": {},
   "source": [
    "### Loading the Data"
   ]
  },
  {
   "cell_type": "code",
   "execution_count": 2,
   "id": "cec87f5d",
   "metadata": {},
   "outputs": [],
   "source": [
    "# Assuming `metrics_df` is the DataFrame containing the metrics"
   ]
  },
  {
   "cell_type": "markdown",
   "id": "9fcffaf1",
   "metadata": {},
   "source": [
    "### N50 Plot"
   ]
  },
  {
   "cell_type": "code",
   "execution_count": 3,
   "id": "067ddf0c",
   "metadata": {},
   "outputs": [
    {
     "ename": "NameError",
     "evalue": "name 'metrics_df' is not defined",
     "output_type": "error",
     "traceback": [
      "\u001b[0;31m---------------------------------------------------------------------------\u001b[0m",
      "\u001b[0;31mNameError\u001b[0m                                 Traceback (most recent call last)",
      "Cell \u001b[0;32mIn[3], line 2\u001b[0m\n\u001b[1;32m      1\u001b[0m fig, ax \u001b[39m=\u001b[39m plt\u001b[39m.\u001b[39msubplots(figsize\u001b[39m=\u001b[39m(\u001b[39m14\u001b[39m, \u001b[39m6\u001b[39m))\n\u001b[0;32m----> 2\u001b[0m sns\u001b[39m.\u001b[39mbarplot(x\u001b[39m=\u001b[39m\u001b[39m'\u001b[39m\u001b[39mAssembler\u001b[39m\u001b[39m'\u001b[39m, y\u001b[39m=\u001b[39m\u001b[39m'\u001b[39m\u001b[39mN50\u001b[39m\u001b[39m'\u001b[39m, hue\u001b[39m=\u001b[39m\u001b[39m'\u001b[39m\u001b[39mSample\u001b[39m\u001b[39m'\u001b[39m, data\u001b[39m=\u001b[39mmetrics_df, ax\u001b[39m=\u001b[39max)\n\u001b[1;32m      3\u001b[0m ax\u001b[39m.\u001b[39mset_title(\u001b[39m'\u001b[39m\u001b[39mN50 values for Samples\u001b[39m\u001b[39m'\u001b[39m)\n\u001b[1;32m      4\u001b[0m ax\u001b[39m.\u001b[39mset_xlabel(\u001b[39m'\u001b[39m\u001b[39mAssembler\u001b[39m\u001b[39m'\u001b[39m)\n",
      "\u001b[0;31mNameError\u001b[0m: name 'metrics_df' is not defined"
     ]
    },
    {
     "data": {
      "image/png": "[encoded data removed]",
      "text/plain": [
       "<Figure size 1400x600 with 1 Axes>"
      ]
     },
     "metadata": {},
     "output_type": "display_data"
    }
   ],
   "source": [
    "\n",
    "fig, ax = plt.subplots(figsize=(14, 6))\n",
    "sns.barplot(x='Assembler', y='N50', hue='Sample', data=metrics_df, ax=ax)\n",
    "ax.set_title('N50 values for Samples')\n",
    "ax.set_xlabel('Assembler')\n",
    "ax.set_ylabel('N50 Value')\n",
    "for item in ax.get_xticklabels():\n",
    "    item.set_rotation(45)\n",
    "plt.tight_layout()\n",
    "plt.show()\n",
    "    "
   ]
  },
  {
   "cell_type": "markdown",
   "id": "7a64edc8",
   "metadata": {},
   "source": [
    "### Total Length Plot"
   ]
  },
  {
   "cell_type": "code",
   "execution_count": null,
   "id": "4fc0f999",
   "metadata": {},
   "outputs": [],
   "source": [
    "\n",
    "fig, ax = plt.subplots(figsize=(14, 6))\n",
    "sns.barplot(x='Assembler', y='Total_Length', hue='Sample', data=metrics_df, ax=ax)\n",
    "ax.set_title('Total Length for Samples')\n",
    "ax.set_xlabel('Assembler')\n",
    "ax.set_ylabel('Total Length')\n",
    "for item in ax.get_xticklabels():\n",
    "    item.set_rotation(45)\n",
    "plt.tight_layout()\n",
    "plt.show()\n",
    "    "
   ]
  },
  {
   "cell_type": "markdown",
   "id": "2f9ad811",
   "metadata": {},
   "source": [
    "### QV Score Plot"
   ]
  },
  {
   "cell_type": "code",
   "execution_count": null,
   "id": "4ce34f6e",
   "metadata": {},
   "outputs": [],
   "source": [
    "\n",
    "fig, ax = plt.subplots(figsize=(14, 6))\n",
    "sns.barplot(x='Assembler', y='QV_Score', hue='Sample', data=metrics_df, ax=ax)\n",
    "ax.set_title('QV Score for Samples')\n",
    "ax.set_xlabel('Assembler')\n",
    "ax.set_ylabel('QV Score')\n",
    "for item in ax.get_xticklabels():\n",
    "    item.set_rotation(45)\n",
    "plt.tight_layout()\n",
    "plt.show()\n",
    "    "
   ]
  },
  {
   "cell_type": "markdown",
   "id": "cf8bc714",
   "metadata": {},
   "source": [
    "### Number of Contigs Plot"
   ]
  },
  {
   "cell_type": "code",
   "execution_count": null,
   "id": "616c4d72",
   "metadata": {},
   "outputs": [],
   "source": [
    "\n",
    "fig, ax = plt.subplots(figsize=(14, 6))\n",
    "sns.barplot(x='Assembler', y='Num_Contigs', hue='Sample', data=metrics_df, ax=ax)\n",
    "ax.set_title('Number of Contigs for Samples')\n",
    "ax.set_xlabel('Assembler')\n",
    "ax.set_ylabel('Number of Contigs')\n",
    "for item in ax.get_xticklabels():\n",
    "    item.set_rotation(45)\n",
    "plt.tight_layout()\n",
    "plt.show()\n",
    "    "
   ]
  }
 ],
 "metadata": {
  "kernelspec": {
   "display_name": "genomics",
   "language": "python",
   "name": "python3"
  },
  "language_info": {
   "codemirror_mode": {
    "name": "ipython",
    "version": 3
   },
   "file_extension": ".py",
   "mimetype": "text/x-python",
   "name": "python",
   "nbconvert_exporter": "python",
   "pygments_lexer": "ipython3",
   "version": "3.8.17"
  }
 },
 "nbformat": 4,
 "nbformat_minor": 5
}
