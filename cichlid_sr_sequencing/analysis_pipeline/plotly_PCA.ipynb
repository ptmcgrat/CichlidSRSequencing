{
 "cells": [
  {
   "cell_type": "code",
   "execution_count": null,
   "metadata": {},
   "outputs": [],
   "source": [
    "import pandas as pd\n",
    "import plotly.express as px\n",
    "import plotly.graph_objs as go"
   ]
  },
  {
   "cell_type": "code",
   "execution_count": 3,
   "metadata": {},
   "outputs": [
    {
     "ename": "SyntaxError",
     "evalue": "invalid syntax. Perhaps you forgot a comma? (1485591806.py, line 16)",
     "output_type": "error",
     "traceback": [
      "\u001b[0;36m  Cell \u001b[0;32mIn[3], line 16\u001b[0;36m\u001b[0m\n\u001b[0;31m    fig = px.scatter(df_merged, x='PC1', y='PC2', color='Ecogroup', shape='ProjectID'  title='PCA', hover_data=['SampleID', 'Ecogroup', 'Organism', 'ProjectID'])\u001b[0m\n\u001b[0m                                                                          ^\u001b[0m\n\u001b[0;31mSyntaxError\u001b[0m\u001b[0;31m:\u001b[0m invalid syntax. Perhaps you forgot a comma?\n"
     ]
    }
   ],
   "source": [
    "# Load the eigenvec file into a pandas dataframe\n",
    "df_eigenvec = pd.read_csv('/Users/kmnike/CichlidSRSequencing/cichlid_sr_sequencing/analysis_pipeline/plotly/test.eigenvec', sep=' ', header=None, index_col=0)\n",
    "header = ['SampleID'] + ['PC{}'.format(i) for i in range(1, 21)] # set header to 'SampleID' followed by PC1-20\n",
    "df_eigenvec.columns = header\n",
    "\n",
    "# Load the metadata file into a pandas dataframe\n",
    "df_metadata = pd.read_excel('/Users/kmnike/CichlidSRSequencing/cichlid_sr_sequencing/SampleDatabase.xlsx', sheet_name='vcf_samples')\n",
    "\n",
    "# Remove duplicate rows from the metadata dataframe\n",
    "df_metadata = df_metadata.drop_duplicates(subset='SampleID', keep='first')\n",
    "\n",
    "# Merge the eigenvec and metadata dataframes on their index (SampleID)\n",
    "df_merged = pd.merge(df_eigenvec, df_metadata, on=['SampleID'])\n",
    "\n",
    "# Use plotly express to generate the scatter plot\n",
    "fig = px.scatter(df_merged, x='PC1', y='PC2', color='Ecogroup', shape='ProjectID', title='PCA', hover_data=['SampleID', 'Ecogroup', 'Organism', 'ProjectID'])\n",
    "\n",
    "# Show the plot\n",
    "fig.show()\n",
    "fig.write_html('/Users/kmnike/Desktop/LG11_pca.html')\n",
    "df_merged = pd.merge(df_eigenvec, df_metadata[['SampleID', 'Ecogroup', 'Organism', 'ProjectID']], on='SampleID')"
   ]
  },
  {
   "cell_type": "markdown",
   "metadata": {},
   "source": []
  }
 ],
 "metadata": {
  "kernelspec": {
   "display_name": "mcgrath",
   "language": "python",
   "name": "python3"
  },
  "language_info": {
   "codemirror_mode": {
    "name": "ipython",
    "version": 3
   },
   "file_extension": ".py",
   "mimetype": "text/x-python",
   "name": "python",
   "nbconvert_exporter": "python",
   "pygments_lexer": "ipython3",
   "version": "3.9.16"
  },
  "orig_nbformat": 4
 },
 "nbformat": 4,
 "nbformat_minor": 2
}
