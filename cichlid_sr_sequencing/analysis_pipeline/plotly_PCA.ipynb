{
 "cells": [
  {
   "cell_type": "code",
   "execution_count": 1,
   "metadata": {},
   "outputs": [],
   "source": [
    "import pandas as pd\n",
    "import plotly.express as px\n",
    "import plotly.graph_objs as go\n"
   ]
  },
  {
   "cell_type": "code",
   "execution_count": 2,
   "metadata": {},
   "outputs": [
    {
     "data": {
      "application/vnd.plotly.v1+json": {
       "config": {
        "plotlyServerURL": "https://plot.ly"
       },
       "data": [
        {
         "customdata": [
          [
           "SAMEA4032137",
           "Diplotaxodon",
           "Diplotaxodon similis"
          ],
          [
           "SAMEA4033318",
           "Diplotaxodon",
           "Diplotaxodon limnothrissa black pelvis"
          ],
          [
           "SAMEA4032125",
           "Diplotaxodon",
           "Diplotaxodon apogon"
          ],
          [
           "SAMEA4032136",
           "Diplotaxodon",
           "Diplotaxodon similis large"
          ],
          [
           "SAMEA4033329",
           "Diplotaxodon",
           "Diplotaxodon similis"
          ],
          [
           "SAMEA4032090",
           "Diplotaxodon",
           "Diplotaxodon limnothrissa"
          ],
          [
           "SAMEA4033285",
           "Diplotaxodon",
           "Diplotaxodon limnothrissa"
          ],
          [
           "SAMEA4032091",
           "Diplotaxodon",
           "Diplotaxodon limnothrissa"
          ],
          [
           "SAMEA4033286",
           "Diplotaxodon",
           "Diplotaxodon limnothrissa"
          ],
          [
           "SAMEA4032092",
           "Diplotaxodon",
           "Diplotaxodon limnothrissa"
          ],
          [
           "SAMEA4033287",
           "Diplotaxodon",
           "Diplotaxodon limnothrissa"
          ],
          [
           "SAMEA4032093",
           "Diplotaxodon",
           "Diplotaxodon limnothrissa"
          ],
          [
           "SAMEA4033288",
           "Diplotaxodon",
           "Diplotaxodon limnothrissa"
          ],
          [
           "SAMEA4032094",
           "Diplotaxodon",
           "Diplotaxodon limnothrissa"
          ],
          [
           "SAMEA4033289",
           "Diplotaxodon",
           "Diplotaxodon limnothrissa"
          ],
          [
           "SAMEA4032095",
           "Diplotaxodon",
           "Diplotaxodon limnothrissa"
          ],
          [
           "SAMEA4033290",
           "Diplotaxodon",
           "Diplotaxodon limnothrissa"
          ],
          [
           "SAMEA4032096",
           "Diplotaxodon",
           "Diplotaxodon limnothrissa"
          ],
          [
           "SAMEA4033291",
           "Diplotaxodon",
           "Diplotaxodon limnothrissa"
          ],
          [
           "SAMEA4032097",
           "Diplotaxodon",
           "Diplotaxodon limnothrissa"
          ],
          [
           "SAMEA4033319",
           "Diplotaxodon",
           "Diplotaxodon similis large"
          ],
          [
           "SAMEA6147774",
           "Diplotaxodon",
           "Diplotaxodon ngulube"
          ],
          [
           "SAMEA3388871",
           "Diplotaxodon",
           "Pallidochromis tokolosh"
          ],
          [
           "SAMEA2661252",
           "Diplotaxodon",
           "Diplotaxodon macrops black dorsal"
          ],
          [
           "SAMEA2661260",
           "Diplotaxodon",
           "Diplotaxodon limnothrissa"
          ],
          [
           "SAMEA2661269",
           "Diplotaxodon",
           "Diplotaxodon macrops"
          ]
         ],
         "hovertemplate": "Ecogroup=%{customdata[1]}<br>PC1=%{x}<br>PC2=%{y}<br>SampleID=%{customdata[0]}<br>Organism=%{customdata[2]}<extra></extra>",
         "legendgroup": "Diplotaxodon",
         "marker": {
          "color": "#636efa",
          "symbol": "circle"
         },
         "mode": "markers",
         "name": "Diplotaxodon",
         "orientation": "v",
         "showlegend": true,
         "type": "scatter",
         "x": [
          -0.0128988,
          -0.0122299,
          -0.0129276,
          -0.013256,
          -0.0132437,
          -0.0123917,
          -0.0123623,
          -0.0125051,
          -0.0125189,
          -0.0126432,
          -0.0124372,
          -0.0124963,
          -0.0126231,
          -0.0124778,
          -0.0127063,
          -0.012757,
          -0.0126751,
          -0.0125623,
          -0.0124673,
          -0.0123716,
          -0.0132671,
          -0.0128587,
          -0.0134001,
          -0.0114304,
          -0.0123622,
          -0.0128459
         ],
         "xaxis": "x",
         "y": [
          -0.0874603,
          -0.0795599,
          -0.0869099,
          -0.0871434,
          -0.0869024,
          -0.0819625,
          -0.0816119,
          -0.0817156,
          -0.0823756,
          -0.0818219,
          -0.0813633,
          -0.0819855,
          -0.0818887,
          -0.0818395,
          -0.0817776,
          -0.0811649,
          -0.0815107,
          -0.0827762,
          -0.0815297,
          -0.080954,
          -0.0878949,
          -0.0857131,
          -0.0849305,
          -0.0865325,
          -0.0820938,
          -0.0846716
         ],
         "yaxis": "y"
        },
        {
         "customdata": [
          [
           "SAMEA4033330",
           "Shallow_Benthic",
           "Dimidiochromis kiwinge"
          ],
          [
           "SAMEA4032138",
           "Shallow_Benthic",
           "Dimidiochromis kiwinge"
          ],
          [
           "SAMEA4032040",
           "Shallow_Benthic",
           "Trematocranus placodon"
          ],
          [
           "SAMEA4033254",
           "Shallow_Benthic",
           "Trematocranus placodon"
          ],
          [
           "SAMEA4032041",
           "Shallow_Benthic",
           "Trematocranus placodon"
          ],
          [
           "SAMEA4033255",
           "Shallow_Benthic",
           "Trematocranus placodon"
          ],
          [
           "SAMEA4032042",
           "Shallow_Benthic",
           "Trematocranus placodon"
          ],
          [
           "SAMEA4033256",
           "Shallow_Benthic",
           "Trematocranus placodon"
          ],
          [
           "SAMEA4032107",
           "Shallow_Benthic",
           "Tyrannochromis macrostoma"
          ],
          [
           "SAMEA4033303",
           "Shallow_Benthic",
           "Tyrannochromis macrostoma"
          ],
          [
           "SAMEA4033304",
           "Shallow_Benthic",
           "Buccochromis nototaenia"
          ],
          [
           "SAMEA4032108",
           "Shallow_Benthic",
           "Buccochromis nototaenia"
          ],
          [
           "SAMEA4033305",
           "Shallow_Benthic",
           "Buccochromis nototaenia"
          ],
          [
           "SAMEA4032109",
           "Shallow_Benthic",
           "Protomelas similis"
          ],
          [
           "SAMEA4033306",
           "Shallow_Benthic",
           "Protomelas similis"
          ],
          [
           "SAMEA4032110",
           "Shallow_Benthic",
           "Protomelas similis"
          ],
          [
           "SAMEA4033307",
           "Shallow_Benthic",
           "Dimidiochromis kiwinge"
          ],
          [
           "SAMEA4032111",
           "Shallow_Benthic",
           "Dimidiochromis kiwinge"
          ],
          [
           "SAMEA4033308",
           "Shallow_Benthic",
           "Dimidiochromis kiwinge"
          ],
          [
           "SAMEA4032112",
           "Shallow_Benthic",
           "Dimidiochromis strigatus"
          ],
          [
           "SAMEA4033309",
           "Shallow_Benthic",
           "Dimidiochromis strigatus"
          ],
          [
           "SAMEA4033310",
           "Shallow_Benthic",
           "Mylochromis anaphyrmus"
          ],
          [
           "SAMEA4032113",
           "Shallow_Benthic",
           "Mylochromis anaphyrmus"
          ],
          [
           "SAMEA4033311",
           "Shallow_Benthic",
           "Mylochromis anaphyrmus"
          ],
          [
           "SAMEA4032114",
           "Shallow_Benthic",
           "Taeniolethrinops praeorbitalis"
          ],
          [
           "SAMEA4033312",
           "Shallow_Benthic",
           "Taeniolethrinops praeorbitalis"
          ],
          [
           "SAMEA4033313",
           "Shallow_Benthic",
           "Taeniolethrinops furcicauda"
          ],
          [
           "SAMEA4032115",
           "Shallow_Benthic",
           "Taeniolethrinops furcicauda yellow"
          ],
          [
           "SAMEA4032123",
           "Shallow_Benthic",
           "Tramitichromis brevis"
          ],
          [
           "SAMEA4033316",
           "Shallow_Benthic",
           "Tramitichromis brevis"
          ],
          [
           "SAMEA4032043",
           "Shallow_Benthic",
           "Trematocranus placodon"
          ],
          [
           "SAMEA4033257",
           "Shallow_Benthic",
           "Trematocranus placodon"
          ],
          [
           "SAMEA4032044",
           "Shallow_Benthic",
           "Trematocranus placodon"
          ],
          [
           "SAMEA4033258",
           "Shallow_Benthic",
           "Trematocranus placodon"
          ],
          [
           "SAMEA4032045",
           "Shallow_Benthic",
           "Trematocranus placodon"
          ],
          [
           "SAMEA4033259",
           "Shallow_Benthic",
           "Trematocranus placodon"
          ],
          [
           "SAMEA4033264",
           "Shallow_Benthic",
           "Protomelas ornatus"
          ],
          [
           "SAMEA4032051",
           "Shallow_Benthic",
           "Protomelas ornatus"
          ],
          [
           "SAMEA4033265",
           "Shallow_Benthic",
           "Protomelas ornatus"
          ],
          [
           "SAMEA4032052",
           "Shallow_Benthic",
           "Protomelas ornatus"
          ],
          [
           "SAMEA4033266",
           "Shallow_Benthic",
           "Protomelas ornatus"
          ],
          [
           "SAMEA4032053",
           "Shallow_Benthic",
           "Protomelas ornatus"
          ],
          [
           "SAMEA4033267",
           "Shallow_Benthic",
           "Protomelas ornatus"
          ],
          [
           "SAMEA4032054",
           "Shallow_Benthic",
           "Protomelas ornatus"
          ],
          [
           "SAMEA4033268",
           "Shallow_Benthic",
           "Protomelas ornatus"
          ],
          [
           "SAMEA4032055",
           "Shallow_Benthic",
           "Protomelas ornatus"
          ],
          [
           "SAMEA4033269",
           "Shallow_Benthic",
           "Protomelas ornatus"
          ],
          [
           "SAMEA4032056",
           "Shallow_Benthic",
           "Protomelas ornatus"
          ],
          [
           "SAMEA4032098",
           "Shallow_Benthic",
           "Aristochromis christyi"
          ],
          [
           "SAMEA4033292",
           "Shallow_Benthic",
           "Cheilochromis euchilus"
          ],
          [
           "SAMEA4032105",
           "Shallow_Benthic",
           "Tyrannochromis nigriventer"
          ],
          [
           "SAMEA4033301",
           "Shallow_Benthic",
           "Tyrannochromis nigriventer"
          ],
          [
           "SAMEA4032106",
           "Shallow_Benthic",
           "Tyrannochromis nigriventer"
          ],
          [
           "SAMEA4033293",
           "Shallow_Benthic",
           "Cyrtocara moori"
          ],
          [
           "SAMEA4033302",
           "Shallow_Benthic",
           "Tyrannochromis macrostoma"
          ],
          [
           "SAMEA1920093",
           "Shallow_Benthic",
           "Lethrinops lethrinus"
          ],
          [
           "SAMEA1920094",
           "Shallow_Benthic",
           "Lethrinops lethrinus"
          ],
          [
           "SAMEA1920095",
           "Shallow_Benthic",
           "Lethrinops lethrinus"
          ],
          [
           "SAMEA3388854",
           "Shallow_Benthic",
           "Stigmatochromis guttatus"
          ],
          [
           "SAMEA3388855",
           "Shallow_Benthic",
           "Tyrannochromis nigriventer"
          ],
          [
           "SAMEA3388857",
           "Shallow_Benthic",
           "Taeniochromis holotaenia"
          ],
          [
           "SAMEA3388858",
           "Shallow_Benthic",
           "Taeniolethrinops macrorhynchus"
          ],
          [
           "SAMEA3388859",
           "Shallow_Benthic",
           "Dimidiochromis kiwinge"
          ],
          [
           "SAMEA3480882",
           "Shallow_Benthic",
           "Hemitaeniochromis spilopterus"
          ],
          [
           "SAMEA3388860",
           "Shallow_Benthic",
           "Taeniolethrinops praeorbitalis"
          ],
          [
           "SAMEA3388862",
           "Shallow_Benthic",
           "Mylochromis ericotaenia"
          ],
          [
           "SAMEA3388863",
           "Shallow_Benthic",
           "Stigmatochromis modestus"
          ],
          [
           "SAMEA3388864",
           "Shallow_Benthic",
           "Hemitilapia oxyrhynchus"
          ],
          [
           "SAMEA3388868",
           "Shallow_Benthic",
           "Taeniolethrinops furcicauda"
          ],
          [
           "SAMEA3388870",
           "Shallow_Benthic",
           "Dimidiochromis strigatus"
          ],
          [
           "SAMEA3388872",
           "Shallow_Benthic",
           "Otopharynx lithobates"
          ],
          [
           "SAMEA1877472",
           "Shallow_Benthic",
           "Otopharynx brooksi nkhata"
          ],
          [
           "SAMEA1877433",
           "Shallow_Benthic",
           "Mylochromis anaphyrmus"
          ],
          [
           "SAMEA1877459",
           "Shallow_Benthic",
           "Trematocranus placodon"
          ],
          [
           "SAMEA1877414",
           "Shallow_Benthic",
           "Buccochromis rhoadesii"
          ],
          [
           "SAMEA1877497",
           "Shallow_Benthic",
           "Copadichromis mloto"
          ],
          [
           "SAMEA1877409",
           "Shallow_Benthic",
           "Placidochromis electra"
          ],
          [
           "SAMEA1877451",
           "Shallow_Benthic",
           "Placidochromis johnstoni"
          ],
          [
           "SAMEA1877476",
           "Shallow_Benthic",
           "Nimbochromis polystigma"
          ],
          [
           "SAMEA1877417",
           "Shallow_Benthic",
           "Lethrinops albus"
          ],
          [
           "SAMEA1877480",
           "Shallow_Benthic",
           "Placidochromis milomo"
          ],
          [
           "SAMEA1877421",
           "Shallow_Benthic",
           "Nimbochromis livingstoni"
          ],
          [
           "SAMEA1877499",
           "Shallow_Benthic",
           "Lethrinops lethrinus"
          ],
          [
           "SAMEA1877411",
           "Shallow_Benthic",
           "Nimbochromis linni"
          ],
          [
           "SAMEA1877503",
           "Shallow_Benthic",
           "Otopharynx tetrastigma"
          ],
          [
           "SAMEA1877455",
           "Shallow_Benthic",
           "Lethrinops auritus"
          ],
          [
           "SAMEA2661216",
           "Shallow_Benthic",
           "Mylochromis anaphyrmus"
          ],
          [
           "SAMEA2661217",
           "Shallow_Benthic",
           "Mylochromis anaphyrmus"
          ],
          [
           "SAMEA2661219",
           "Shallow_Benthic",
           "Mylochromis anaphyrmus"
          ],
          [
           "SAMEA2661231",
           "Shallow_Benthic",
           "Ctenopharynx intermedius"
          ],
          [
           "SAMEA2661233",
           "Shallow_Benthic",
           "Trematocranus placodon"
          ],
          [
           "SAMEA2661235",
           "Shallow_Benthic",
           "Trematocranus placodon"
          ],
          [
           "SAMEA2661243",
           "Shallow_Benthic",
           "Placidochromis subocularis"
          ],
          [
           "SAMEA2661245",
           "Shallow_Benthic",
           "Placidochromis subocularis"
          ],
          [
           "SAMEA2661263",
           "Shallow_Benthic",
           "Fossorochromis rostratus"
          ],
          [
           "SAMEA2661218",
           "Shallow_Benthic",
           "Mylochromis anaphyrmus"
          ],
          [
           "SAMEA2661228",
           "Shallow_Benthic",
           "Chilotilapia rhoadesii"
          ],
          [
           "SAMEA2661229",
           "Shallow_Benthic",
           "Chilotilapia rhoadesii"
          ],
          [
           "SAMEA2661232",
           "Shallow_Benthic",
           "Ctenopharynx intermedius"
          ],
          [
           "SAMEA2661234",
           "Shallow_Benthic",
           "Trematocranus placodon"
          ],
          [
           "SAMEA2661236",
           "Shallow_Benthic",
           "Trematocranus placodon"
          ],
          [
           "SAMEA2661244",
           "Shallow_Benthic",
           "Placidochromis subocularis"
          ],
          [
           "SAMEA2661246",
           "Shallow_Benthic",
           "Placidochromis subocularis"
          ],
          [
           "SAMEA2661250",
           "Shallow_Benthic",
           "Chilotilapia rhoadesii"
          ],
          [
           "SAMEA2661264",
           "Shallow_Benthic",
           "Fossorochromis rostratus"
          ],
          [
           "SAMEA2661279",
           "Shallow_Benthic",
           "Placidochromis longimanus"
          ],
          [
           "SAMEA2661280",
           "Shallow_Benthic",
           "Placidochromis longimanus"
          ],
          [
           "SAMEA2661281",
           "Shallow_Benthic",
           "Placidochromis longimanus"
          ],
          [
           "SAMEA2661282",
           "Shallow_Benthic",
           "Placidochromis longimanus"
          ],
          [
           "SAMEA2661287",
           "Shallow_Benthic",
           "Placidochromis subocularis"
          ],
          [
           "SAMEA2661288",
           "Shallow_Benthic",
           "Placidochromis subocularis"
          ],
          [
           "SAMEA2661289",
           "Shallow_Benthic",
           "Placidochromis subocularis"
          ],
          [
           "SAMEA2661290",
           "Shallow_Benthic",
           "Placidochromis subocularis"
          ],
          [
           "SAMEA2661220",
           "Shallow_Benthic",
           "Otopharynx speciosus"
          ],
          [
           "SAMEA2661221",
           "Shallow_Benthic",
           "Otopharynx speciosus"
          ],
          [
           "SAMEA2661227",
           "Shallow_Benthic",
           "Chilotilapia rhoadesii"
          ],
          [
           "SAMEA2661230",
           "Shallow_Benthic",
           "Ctenopharynx intermedius"
          ],
          [
           "SAMEA2661237",
           "Shallow_Benthic",
           "Champsochromis caeruelus"
          ],
          [
           "SAMEA2661238",
           "Shallow_Benthic",
           "Champsochromis caeruelus"
          ],
          [
           "SAMEA2661239",
           "Shallow_Benthic",
           "Buccochromis nototaenia"
          ],
          [
           "SAMEA2661240",
           "Shallow_Benthic",
           "Protomelas ornatus"
          ],
          [
           "SAMEA2661241",
           "Shallow_Benthic",
           "Protomelas ornatus"
          ],
          [
           "SAMEA2661242",
           "Shallow_Benthic",
           "Ctenopharynx nitidus"
          ],
          [
           "SAMEA2661248",
           "Shallow_Benthic",
           "Aulonocara blue chilumba"
          ],
          [
           "SAMEA2661251",
           "Shallow_Benthic",
           "Dimidiochromis compressiceps (Malawi eyebiter)"
          ],
          [
           "SAMEA2661254",
           "Shallow_Benthic",
           "Copadichromis borleyi"
          ],
          [
           "SAMEA2661261",
           "Shallow_Benthic",
           "Fossorochromis rostratus"
          ],
          [
           "SAMEA2661265",
           "Shallow_Benthic",
           "Hemitaeniochromis spilopterus"
          ],
          [
           "SAMEA2661268",
           "Shallow_Benthic",
           "Fossorochromis rostratus"
          ],
          [
           "SAMEA2661270",
           "Shallow_Benthic",
           "Hemitilapia oxyrhynchus"
          ],
          [
           "SAMEA2661276",
           "Shallow_Benthic",
           "Mylochromis lateristriga"
          ],
          [
           "SAMEA2661277",
           "Shallow_Benthic",
           "Dimidiochromis strigatus"
          ],
          [
           "SAMEA2661278",
           "Shallow_Benthic",
           "Placidochromis longimanus"
          ],
          [
           "SAMEA1904832",
           "Shallow_Benthic",
           "Lethrinops lethrinus"
          ],
          [
           "SAMN06685763",
           "Shallow_Benthic",
           "Mylochromis sphaerodon"
          ],
          [
           "SAMN06701600",
           "Shallow_Benthic",
           "Mylochromis anaphyrmus"
          ],
          [
           "SAMN06685754",
           "Shallow_Benthic",
           "Nyassachromis sp. 'otter'"
          ],
          [
           "SAMN06685752",
           "Shallow_Benthic",
           "Tramitichromis sp. 'chembe'"
          ],
          [
           "SAMN06685766",
           "Shallow_Benthic",
           "Mylochromis lateristriga"
          ],
          [
           "SAMN06685765",
           "Shallow_Benthic",
           "Dimidiochromis kiwinge"
          ],
          [
           "SAMN06685764",
           "Shallow_Benthic",
           "Nimbochromis polystigma"
          ],
          [
           "SAMN06685762",
           "Shallow_Benthic",
           "Dimidiochromis compressiceps"
          ],
          [
           "SAMN06685761",
           "Shallow_Benthic",
           "Aulonocara baenschi"
          ],
          [
           "SAMN06685760",
           "Shallow_Benthic",
           "Fossorochromis rostratus"
          ],
          [
           "SAMN06685758",
           "Shallow_Benthic",
           "Tramitichromis intermedius"
          ],
          [
           "SAMN06685756",
           "Shallow_Benthic",
           "Trematocranus placodon"
          ],
          [
           "SAMN06685753",
           "Shallow_Benthic",
           "Taeniolethrinops furcicauda"
          ],
          [
           "SAMN06685751",
           "Shallow_Benthic",
           "Copadichromis mloto"
          ],
          [
           "SAMN06685749",
           "Shallow_Benthic",
           "Ctenopharynx nitidus"
          ]
         ],
         "hovertemplate": "Ecogroup=%{customdata[1]}<br>PC1=%{x}<br>PC2=%{y}<br>SampleID=%{customdata[0]}<br>Organism=%{customdata[2]}<extra></extra>",
         "legendgroup": "Shallow_Benthic",
         "marker": {
          "color": "#EF553B",
          "symbol": "circle"
         },
         "mode": "markers",
         "name": "Shallow_Benthic",
         "orientation": "v",
         "showlegend": true,
         "type": "scatter",
         "x": [
          -0.0218692,
          -0.0224249,
          -0.0219935,
          -0.0224666,
          -0.022439,
          -0.0226692,
          -0.0223335,
          -0.0226716,
          -0.0212527,
          -0.0211459,
          -0.0508306,
          -0.0368316,
          -0.0372569,
          -0.0214952,
          -0.0215261,
          -0.0216959,
          -0.0219767,
          -0.0219386,
          -0.0220979,
          -0.0219356,
          -0.0223388,
          -0.0339861,
          -0.0499397,
          -0.0492214,
          -0.05193,
          -0.0523312,
          -0.0523273,
          -0.0518653,
          -0.0523243,
          -0.0511297,
          -0.0226147,
          -0.0226309,
          -0.0226513,
          -0.0221272,
          -0.0223067,
          -0.0223409,
          -0.0221735,
          -0.0221903,
          -0.0220862,
          -0.0219884,
          -0.0222073,
          -0.0223902,
          -0.0224252,
          -0.0222376,
          -0.0222276,
          -0.0222334,
          -0.0223725,
          -0.0221128,
          -0.0214779,
          -0.022167,
          -0.0217303,
          -0.0216275,
          -0.0218038,
          -0.0367714,
          -0.0216982,
          -0.0548812,
          -0.0552095,
          -0.0567444,
          -0.0206115,
          -0.0202453,
          -0.0194822,
          -0.0523254,
          -0.0217023,
          -0.0219917,
          -0.0520646,
          -0.0219574,
          -0.0186836,
          -0.0214701,
          -0.0528421,
          -0.0220829,
          -0.0218359,
          -0.0202467,
          -0.0491586,
          -0.0220274,
          -0.0368877,
          -0.0192066,
          -0.0356212,
          -0.0222999,
          -0.0213763,
          -0.0485254,
          -0.0208062,
          -0.0211826,
          -0.0517283,
          -0.0216984,
          -0.0209607,
          -0.0507648,
          -0.0439165,
          -0.0423427,
          -0.0430111,
          -0.0399853,
          -0.0154331,
          -0.0147254,
          -0.0174965,
          -0.0196979,
          -0.0181777,
          -0.0408389,
          -0.017889,
          -0.0169079,
          -0.0421435,
          -0.0162071,
          -0.0172783,
          -0.017042,
          -0.0177544,
          -0.0185131,
          -0.016464,
          -0.0416065,
          -0.0414961,
          -0.0411364,
          -0.0414421,
          -0.0143782,
          -0.0147798,
          -0.0162378,
          -0.0152631,
          -0.0516079,
          -0.0515776,
          -0.023291,
          -0.0518313,
          -0.0222271,
          -0.0223091,
          -0.0501479,
          -0.022103,
          -0.0221959,
          -0.0517911,
          -0.0447788,
          -0.0220938,
          -0.0218827,
          -0.0232449,
          -0.0216102,
          -0.0219503,
          -0.022007,
          -0.0129065,
          -0.0221659,
          -0.0511623,
          -0.0411823,
          -0.0214952,
          -0.0233957,
          -0.0441751,
          -0.0469931,
          -0.0162864,
          -0.0192237,
          -0.0200201,
          -0.022063,
          -0.0452929,
          -0.0202387,
          -0.0354182,
          -0.0134579,
          -0.0349372,
          -0.0486097,
          -0.0511388
         ],
         "xaxis": "x",
         "y": [
          0.0709785,
          0.0714309,
          0.069065,
          0.0697432,
          0.069651,
          0.0691465,
          0.0681092,
          0.0691282,
          0.0718258,
          0.0714203,
          -0.0209915,
          0.0173935,
          0.0211173,
          0.0671968,
          0.0674679,
          0.067319,
          0.0706472,
          0.0712047,
          0.0714534,
          0.0713776,
          0.0718378,
          0.0160289,
          -0.0280732,
          -0.0267142,
          -0.0308593,
          -0.0310607,
          -0.0313884,
          -0.0308435,
          -0.0316907,
          -0.0309181,
          0.0685545,
          0.0692606,
          0.0693987,
          0.0690059,
          0.0693361,
          0.0692288,
          0.0713666,
          0.0714254,
          0.0711079,
          0.0713449,
          0.0723226,
          0.0725814,
          0.072016,
          0.0720671,
          0.0722116,
          0.0723411,
          0.0721969,
          0.0721019,
          0.0715944,
          0.0696802,
          0.0734874,
          0.0728255,
          0.0732162,
          0.0205547,
          0.0735768,
          -0.0336872,
          -0.0342319,
          -0.035614,
          0.0636528,
          0.0713292,
          0.0647941,
          -0.0317176,
          0.0702082,
          0.0680142,
          -0.0313497,
          0.0692191,
          0.0610588,
          0.0666488,
          -0.0322781,
          0.0707022,
          0.066873,
          0.0625296,
          -0.0280012,
          0.0685511,
          0.021648,
          0.0584307,
          0.017069,
          0.069449,
          0.0686348,
          -0.0292096,
          0.0648512,
          0.0687803,
          -0.0315673,
          0.0691264,
          0.0655931,
          -0.0299028,
          -0.0265654,
          -0.0263268,
          -0.0254971,
          -0.0235944,
          0.0628825,
          0.0626277,
          0.065761,
          0.0695835,
          0.0637031,
          -0.0254078,
          0.0671275,
          0.0664414,
          -0.0249896,
          0.0631488,
          0.0643536,
          0.0644058,
          0.065969,
          0.0680828,
          0.0634655,
          -0.0225166,
          -0.0225963,
          -0.02243,
          -0.023493,
          0.0631479,
          0.06351,
          0.0646979,
          0.064557,
          -0.0219936,
          -0.0224782,
          0.0716625,
          -0.0271101,
          0.0693647,
          0.0687694,
          -0.0200277,
          0.0711676,
          0.0714962,
          -0.0277428,
          -0.0397748,
          0.0721162,
          0.0555451,
          0.0705751,
          0.0681567,
          0.0671942,
          0.0678495,
          -0.0877121,
          0.071773,
          -0.0258271,
          -0.0299452,
          0.0690123,
          -0.0206932,
          -0.0236343,
          -0.0301881,
          0.0613234,
          0.0681715,
          0.0665913,
          0.0727866,
          -0.0317754,
          0.0650443,
          0.0239763,
          0.0616305,
          -0.0278489,
          -0.0405226,
          -0.0275059
         ],
         "yaxis": "y"
        },
        {
         "customdata": [
          [
           "SAMEA4051559",
           "Utaka",
           "Copadichromis virginalis"
          ],
          [
           "SAMEA4032130",
           "Utaka",
           "Copadichromis virginalis"
          ],
          [
           "SAMEA4032131",
           "Utaka",
           "Copadichromis virginalis"
          ],
          [
           "SAMEA4033324",
           "Utaka",
           "Copadichromis virginalis"
          ],
          [
           "SAMEA4032132",
           "Utaka",
           "Copadichromis virginalis"
          ],
          [
           "SAMEA4033325",
           "Utaka",
           "Copadichromis virginalis"
          ],
          [
           "SAMEA4033326",
           "Utaka",
           "Copadichromis virginalis"
          ],
          [
           "SAMEA4032134",
           "Utaka",
           "Copadichromis virginalis"
          ],
          [
           "SAMEA4032046",
           "Utaka",
           "Copadichromis virginalis"
          ],
          [
           "SAMEA4033260",
           "Utaka",
           "Copadichromis virginalis"
          ],
          [
           "SAMEA4032047",
           "Utaka",
           "Copadichromis virginalis"
          ],
          [
           "SAMEA4033261",
           "Utaka",
           "Copadichromis virginalis"
          ],
          [
           "SAMEA4032048",
           "Utaka",
           "Copadichromis virginalis"
          ],
          [
           "SAMEA4033262",
           "Utaka",
           "Copadichromis virginalis"
          ],
          [
           "SAMEA4032049",
           "Utaka",
           "Copadichromis virginalis"
          ],
          [
           "SAMEA4033263",
           "Utaka",
           "Copadichromis virginalis"
          ],
          [
           "SAMEA4032050",
           "Utaka",
           "Copadichromis virginalis"
          ],
          [
           "SAMEA4033323",
           "Utaka",
           "Copadichromis virginalis"
          ],
          [
           "SAMEA6147773",
           "Utaka",
           "Copadichromis likomae"
          ],
          [
           "SAMEA1904324",
           "Utaka",
           "Copadichromis quadrimaculatus"
          ],
          [
           "SAMEA1904329",
           "Utaka",
           "Copadichromis virginalis"
          ],
          [
           "SAMEA2661224",
           "Utaka",
           "Copadichromis virginalis"
          ],
          [
           "SAMEA2661226",
           "Utaka",
           "Copadichromis virginalis"
          ],
          [
           "SAMEA2661223",
           "Utaka",
           "Copadichromis virginalis"
          ],
          [
           "SAMEA2661225",
           "Utaka",
           "Copadichromis virginalis"
          ],
          [
           "SAMEA2661283",
           "Utaka",
           "Copadichromis virginalis (Lake Malombe dwarf)"
          ],
          [
           "SAMEA2661285",
           "Utaka",
           "Copadichromis virginalis (Lake Malombe dwarf)"
          ],
          [
           "SAMEA2661222",
           "Utaka",
           "Copadichromis trimaculatus"
          ],
          [
           "SAMN06685750",
           "Utaka",
           "Copadichromis likomae"
          ],
          [
           "SAMN06685757",
           "Utaka",
           "Copadichromis virginalis"
          ],
          [
           "SAMN06685712",
           "Utaka",
           "Mchenga conophoros"
          ],
          [
           "CV_1_m",
           "Utaka",
           "Copadichromis virginalis"
          ],
          [
           "CV_2_f",
           "Utaka",
           "Copadichromis virginalis"
          ],
          [
           "MC_1_m",
           "Utaka",
           "Mchenga conophoros"
          ],
          [
           "MC_2_f",
           "Utaka",
           "Mchenga conophoros"
          ]
         ],
         "hovertemplate": "Ecogroup=%{customdata[1]}<br>PC1=%{x}<br>PC2=%{y}<br>SampleID=%{customdata[0]}<br>Organism=%{customdata[2]}<extra></extra>",
         "legendgroup": "Utaka",
         "marker": {
          "color": "#00cc96",
          "symbol": "circle"
         },
         "mode": "markers",
         "name": "Utaka",
         "orientation": "v",
         "showlegend": true,
         "type": "scatter",
         "x": [
          -0.0575054,
          -0.0206744,
          -0.0197404,
          -0.057527,
          -0.0574857,
          -0.0569606,
          -0.0576457,
          -0.0580824,
          -0.0574514,
          -0.0569985,
          -0.0574199,
          -0.0196116,
          -0.0206003,
          -0.0574592,
          -0.0578463,
          -0.0581043,
          -0.0515134,
          -0.0196417,
          -0.0509722,
          -0.0506296,
          -0.0512158,
          -0.0447051,
          -0.0444349,
          -0.0460987,
          -0.0464128,
          -0.0384068,
          -0.0369245,
          -0.0213437,
          -0.0507195,
          -0.0208359,
          -0.055892,
          -0.0202655,
          -0.0216569,
          -0.0545499,
          -0.0405069
         ],
         "xaxis": "x",
         "y": [
          -0.0562615,
          0.0220434,
          0.0193985,
          -0.0548805,
          -0.0556802,
          -0.0550068,
          -0.0557159,
          -0.0564495,
          -0.0555588,
          -0.0550088,
          -0.0561557,
          0.0194116,
          0.0218969,
          -0.0547966,
          -0.0558729,
          -0.0564231,
          -0.048711,
          0.0195812,
          -0.0417126,
          -0.041851,
          -0.0486145,
          -0.0454628,
          -0.0447837,
          -0.0456667,
          -0.0460485,
          -0.0417166,
          -0.0415024,
          0.0499526,
          -0.0401133,
          0.0218285,
          -0.0289464,
          0.0205289,
          0.0210582,
          -0.0296477,
          -0.00362645
         ],
         "yaxis": "y"
        },
        {
         "customdata": [
          [
           "SAMEA4051560",
           "Deep_Benthic",
           "Lethrinops gossei"
          ],
          [
           "SAMEA4033314",
           "Deep_Benthic",
           "Lethrinops longipinnis"
          ],
          [
           "SAMEA4033315",
           "Deep_Benthic",
           "Lethrinops longipinnis"
          ],
          [
           "SAMEA4032124",
           "Deep_Benthic",
           "Sciaenochromis benthicola"
          ],
          [
           "SAMEA4033317",
           "Deep_Benthic",
           "Sciaenochromis benthicola"
          ],
          [
           "SAMEA4033327",
           "Deep_Benthic",
           "Lethrinops gossei"
          ],
          [
           "SAMEA4033328",
           "Deep_Benthic",
           "Lethrinops gossei"
          ],
          [
           "SAMEA1904322",
           "Deep_Benthic",
           "Lethrinops longimanus 'redhead'"
          ],
          [
           "SAMEA1904330",
           "Deep_Benthic",
           "Lethrinops sp. oliveri"
          ],
          [
           "SAMEA1904331",
           "Deep_Benthic",
           "Alticorpus geoffreyi"
          ],
          [
           "SAMEA1920098",
           "Deep_Benthic",
           "Aulonocara stuartgranti"
          ],
          [
           "SAMEA1920096",
           "Deep_Benthic",
           "Aulonocara stuartgranti"
          ],
          [
           "SAMEA1920097",
           "Deep_Benthic",
           "Aulonocara stuartgranti"
          ],
          [
           "SAMEA1877469",
           "Deep_Benthic",
           "Placidochromis vulgaris"
          ],
          [
           "SAMEA1877429",
           "Deep_Benthic",
           "Alticorpus macrocleithrum"
          ],
          [
           "SAMEA1877489",
           "Deep_Benthic",
           "Aulonocara stuartgranti maisoni"
          ],
          [
           "SAMEA1877440",
           "Deep_Benthic",
           "Aulonocara steveni"
          ],
          [
           "SAMEA1877484",
           "Deep_Benthic",
           "Lethrinops gossei"
          ],
          [
           "SAMEA2661247",
           "Deep_Benthic",
           "Aulonocara gold"
          ],
          [
           "SAMEA2661256",
           "Deep_Benthic",
           "Aulonocara minutus"
          ],
          [
           "SAMEA2661258",
           "Deep_Benthic",
           "Alticorpus peterdaviesi"
          ],
          [
           "SAMEA2661292",
           "Deep_Benthic",
           "Aulonocara stuartgranti"
          ],
          [
           "SAMEA2661294",
           "Deep_Benthic",
           "Aulonocara stuartgranti"
          ],
          [
           "SAMEA1904837",
           "Deep_Benthic",
           "Aulonocara stuartgranti"
          ],
          [
           "SAMN06685755",
           "Deep_Benthic",
           "Otopharynx argyrosoma"
          ],
          [
           "YH_1_m",
           "Deep_Benthic",
           "Aulonocara Nkhata \"yellow head\" chitende"
          ]
         ],
         "hovertemplate": "Ecogroup=%{customdata[1]}<br>PC1=%{x}<br>PC2=%{y}<br>SampleID=%{customdata[0]}<br>Organism=%{customdata[2]}<extra></extra>",
         "legendgroup": "Deep_Benthic",
         "marker": {
          "color": "#ab63fa",
          "symbol": "circle"
         },
         "mode": "markers",
         "name": "Deep_Benthic",
         "orientation": "v",
         "showlegend": true,
         "type": "scatter",
         "x": [
          -0.0480576,
          -0.0482298,
          -0.0482196,
          -0.019939,
          -0.0198634,
          -0.0475418,
          -0.0481534,
          -0.0482927,
          -0.0471233,
          -0.0482544,
          -0.0536377,
          -0.0529271,
          -0.0532578,
          0.0851957,
          -0.0496611,
          -0.0479643,
          -0.050393,
          -0.0476797,
          -0.0486679,
          -0.0489054,
          -0.0491093,
          -0.0533319,
          -0.0527475,
          -0.0361505,
          -0.0221885,
          -0.0519468
         ],
         "xaxis": "x",
         "y": [
          -0.0388547,
          -0.0345142,
          -0.0343637,
          0.0647768,
          0.0635275,
          -0.0391901,
          -0.0394692,
          -0.0378545,
          -0.037984,
          -0.0355887,
          -0.0391305,
          -0.0381145,
          -0.0385849,
          0.0155866,
          -0.0390581,
          -0.0321977,
          -0.0360643,
          -0.0390559,
          -0.0400506,
          -0.0386486,
          -0.0395803,
          -0.0389666,
          -0.0387552,
          -0.0324789,
          0.0168492,
          -0.0409313
         ],
         "yaxis": "y"
        },
        {
         "customdata": [
          [
           "SAMEA4032033",
           "Mbuna",
           "Petrotilapia genalutea"
          ],
          [
           "SAMEA4033247",
           "Mbuna",
           "Petrotilapia genalutea"
          ],
          [
           "SAMEA4032034",
           "Mbuna",
           "Petrotilapia genalutea"
          ],
          [
           "SAMEA4033248",
           "Mbuna",
           "Petrotilapia genalutea"
          ],
          [
           "SAMEA4032035",
           "Mbuna",
           "Petrotilapia genalutea"
          ],
          [
           "SAMEA4033249",
           "Mbuna",
           "Petrotilapia genalutea"
          ],
          [
           "SAMEA4032036",
           "Mbuna",
           "Petrotilapia genalutea"
          ],
          [
           "SAMEA4033250",
           "Mbuna",
           "Petrotilapia genalutea"
          ],
          [
           "SAMEA4032037",
           "Mbuna",
           "Petrotilapia genalutea"
          ],
          [
           "SAMEA4033251",
           "Mbuna",
           "Petrotilapia genalutea"
          ],
          [
           "SAMEA4032038",
           "Mbuna",
           "Petrotilapia genalutea"
          ],
          [
           "SAMEA4033252",
           "Mbuna",
           "Petrotilapia genalutea"
          ],
          [
           "SAMEA4032039",
           "Mbuna",
           "Petrotilapia genalutea"
          ],
          [
           "SAMEA4033253",
           "Mbuna",
           "Petrotilapia genalutea"
          ],
          [
           "SAMEA4033320",
           "Mbuna",
           "Maylandia emmiltos"
          ],
          [
           "SAMEA4032127",
           "Mbuna",
           "Maylandia emmiltos"
          ],
          [
           "SAMEA4033321",
           "Mbuna",
           "Maylandia fainzilberi"
          ],
          [
           "SAMEA4032128",
           "Mbuna",
           "Maylandia fainzilberi"
          ],
          [
           "SAMEA4033322",
           "Mbuna",
           "Maylandia fainzilberi"
          ],
          [
           "SAMEA4032129",
           "Mbuna",
           "Maylandia fainzilberi"
          ],
          [
           "SAMEA4032066",
           "Mbuna",
           "Maylandia zebra"
          ],
          [
           "SAMEA4033278",
           "Mbuna",
           "Maylandia zebra"
          ],
          [
           "SAMEA4032067",
           "Mbuna",
           "Maylandia zebra"
          ],
          [
           "SAMEA4033279",
           "Mbuna",
           "Maylandia zebra"
          ],
          [
           "SAMEA4032068",
           "Mbuna",
           "Maylandia zebra"
          ],
          [
           "SAMEA4033280",
           "Mbuna",
           "Maylandia zebra"
          ],
          [
           "SAMEA4032069",
           "Mbuna",
           "Maylandia zebra"
          ],
          [
           "SAMEA4033281",
           "Mbuna",
           "Maylandia zebra"
          ],
          [
           "SAMEA4032070",
           "Mbuna",
           "Maylandia zebra"
          ],
          [
           "SAMEA4033282",
           "Mbuna",
           "Maylandia zebra"
          ],
          [
           "SAMEA4032088",
           "Mbuna",
           "Maylandia zebra"
          ],
          [
           "SAMEA4033283",
           "Mbuna",
           "Maylandia zebra"
          ],
          [
           "SAMEA4032089",
           "Mbuna",
           "Maylandia zebra"
          ],
          [
           "SAMEA4033284",
           "Mbuna",
           "Maylandia zebra"
          ],
          [
           "SAMEA4032099",
           "Mbuna",
           "Gephyrochromis lawsi"
          ],
          [
           "SAMEA4033294",
           "Mbuna",
           "Melanochromis auratus"
          ],
          [
           "SAMEA4032100",
           "Mbuna",
           "Pseudotropheus elongatus"
          ],
          [
           "SAMEA4033296",
           "Mbuna",
           "Pseudotropheus livingstonii"
          ],
          [
           "SAMEA4032101",
           "Mbuna",
           "Labeotropheus trewavasae"
          ],
          [
           "SAMEA4033297",
           "Mbuna",
           "Labeotropheus trewavasae"
          ],
          [
           "SAMEA4032102",
           "Mbuna",
           "Labeotropheus trewavasae"
          ],
          [
           "SAMEA4033298",
           "Mbuna",
           "Labeotropheus trewavasae"
          ],
          [
           "SAMEA4032103",
           "Mbuna",
           "Labeotropheus fuelleborni"
          ],
          [
           "SAMEA4033299",
           "Mbuna",
           "Labeotropheus fuelleborni"
          ],
          [
           "SAMEA4032104",
           "Mbuna",
           "Labeotropheus fuelleborni"
          ],
          [
           "SAMEA4033300",
           "Mbuna",
           "Labeotropheus fuelleborni"
          ],
          [
           "SAMEA3388874",
           "Mbuna",
           "Metriaclima zebra"
          ],
          [
           "SAMEA2661267",
           "Mbuna",
           "Labeotropheus trewavasae (scrapermouth mbuna)"
          ],
          [
           "SAMEA2661253",
           "Mbuna",
           "Cynotilapia afra"
          ],
          [
           "SAMEA2661257",
           "Mbuna",
           "Cynotilapia axelrodi"
          ],
          [
           "SAMEA2661259",
           "Mbuna",
           "Cyathochromis obliquidens"
          ],
          [
           "SAMEA2661262",
           "Mbuna",
           "Genyochromis mento"
          ],
          [
           "SAMEA2661266",
           "Mbuna",
           "Iodotropheus sprengerae"
          ],
          [
           "SAMEA2661272",
           "Mbuna",
           "Tropheops tropheops (=orange chest)"
          ],
          [
           "SAMEA2661275",
           "Mbuna",
           "Petrotilapia genalutea"
          ],
          [
           "SAMN06685767",
           "Mbuna",
           "Maylandia zebra"
          ],
          [
           "SAMN08051119",
           "Mbuna",
           "Labeotropheus trewavasae"
          ],
          [
           "SAMN08051114",
           "Mbuna",
           "Labeotropheus fuelleborni"
          ],
          [
           "SAMN08051115",
           "Mbuna",
           "Cynotilapia afra"
          ],
          [
           "SAMN08051120",
           "Mbuna",
           "Cyathochromis obliquidens"
          ],
          [
           "SAMN08051112",
           "Mbuna",
           "Maylandia sp. ''Patricki''"
          ],
          [
           "SAMN08051113",
           "Mbuna",
           "Petrotilapia nigra"
          ],
          [
           "SAMN08051121",
           "Mbuna",
           "Genyochromis mento"
          ],
          [
           "MZ_1_m",
           "Mbuna",
           "Maylandia zebra"
          ],
          [
           "MZ_2_f",
           "Mbuna",
           "Maylandia zebra"
          ]
         ],
         "hovertemplate": "Ecogroup=%{customdata[1]}<br>PC1=%{x}<br>PC2=%{y}<br>SampleID=%{customdata[0]}<br>Organism=%{customdata[2]}<extra></extra>",
         "legendgroup": "Mbuna",
         "marker": {
          "color": "#FFA15A",
          "symbol": "circle"
         },
         "mode": "markers",
         "name": "Mbuna",
         "orientation": "v",
         "showlegend": true,
         "type": "scatter",
         "x": [
          0.102501,
          0.104639,
          0.105513,
          0.105101,
          0.106181,
          0.105412,
          0.105502,
          0.104818,
          0.101484,
          0.102664,
          0.103238,
          0.103024,
          0.10244,
          0.102274,
          0.0995911,
          0.100088,
          0.102991,
          0.101956,
          0.100906,
          0.101154,
          0.103487,
          0.103414,
          0.103413,
          0.103067,
          0.104084,
          0.099595,
          0.103867,
          0.103828,
          0.104679,
          0.103913,
          0.103666,
          0.10431,
          0.104283,
          0.102777,
          0.097938,
          0.0982661,
          0.0989048,
          0.096384,
          0.106452,
          0.107218,
          0.110851,
          0.108453,
          0.102858,
          0.10622,
          0.105295,
          0.104141,
          0.1028,
          0.105897,
          0.0978834,
          0.0997771,
          -0.0360846,
          0.100686,
          0.0986579,
          0.0984544,
          0.103791,
          0.100243,
          0.108481,
          0.102342,
          0.0991799,
          0.0910301,
          0.0967926,
          0.102381,
          0.089493,
          0.101784,
          0.109065
         ],
         "xaxis": "x",
         "y": [
          0.00633897,
          0.00700344,
          0.00683013,
          0.00678768,
          0.00725432,
          0.00675996,
          0.006801,
          0.00687953,
          0.00594391,
          0.00660495,
          0.00685508,
          0.00690004,
          0.00707347,
          0.00670467,
          0.00573439,
          0.00589563,
          0.00548311,
          0.00549591,
          0.00515404,
          0.0052814,
          0.00547749,
          0.00555373,
          0.00560892,
          0.00554346,
          0.00544441,
          0.00589951,
          0.00547607,
          0.00537693,
          0.00540131,
          0.00535326,
          0.00526957,
          0.00546517,
          0.00538941,
          0.00528234,
          0.00578632,
          0.00664817,
          0.00600058,
          0.00749707,
          0.00347967,
          0.00336552,
          0.00373481,
          0.00352678,
          0.00330499,
          0.00329587,
          0.00319128,
          0.00355988,
          0.00626922,
          0.00409259,
          0.00618863,
          0.00586903,
          0.018861,
          0.0066042,
          0.00692918,
          0.00554525,
          0.00693824,
          0.00608084,
          0.00370138,
          0.0034347,
          0.00564128,
          0.00544861,
          0.00590103,
          0.00628327,
          0.00649848,
          0.00571349,
          0.0055596
         ],
         "yaxis": "y"
        },
        {
         "customdata": [
          [
           "SAMEA4032126",
           "Rhamphochromis",
           "Rhamphochromis woodi"
          ],
          [
           "SAMEA4033270",
           "Rhamphochromis",
           "Rhamphochromis longiceps"
          ],
          [
           "SAMEA4032057",
           "Rhamphochromis",
           "Rhamphochromis longiceps"
          ],
          [
           "SAMEA4033271",
           "Rhamphochromis",
           "Rhamphochromis longiceps"
          ],
          [
           "SAMEA4032058",
           "Rhamphochromis",
           "Rhamphochromis longiceps"
          ],
          [
           "SAMEA4033272",
           "Rhamphochromis",
           "Rhamphochromis longiceps"
          ],
          [
           "SAMEA4032059",
           "Rhamphochromis",
           "Rhamphochromis longiceps"
          ],
          [
           "SAMEA4033273",
           "Rhamphochromis",
           "Rhamphochromis longiceps"
          ],
          [
           "SAMEA4032060",
           "Rhamphochromis",
           "Rhamphochromis longiceps"
          ],
          [
           "SAMEA4033274",
           "Rhamphochromis",
           "Rhamphochromis longiceps"
          ],
          [
           "SAMEA4032061",
           "Rhamphochromis",
           "Rhamphochromis longiceps"
          ],
          [
           "SAMEA4033275",
           "Rhamphochromis",
           "Rhamphochromis longiceps"
          ],
          [
           "SAMEA4032064",
           "Rhamphochromis",
           "Rhamphochromis longiceps"
          ],
          [
           "SAMEA4033276",
           "Rhamphochromis",
           "Rhamphochromis longiceps"
          ],
          [
           "SAMEA4032065",
           "Rhamphochromis",
           "Rhamphochromis longiceps"
          ],
          [
           "SAMEA4033277",
           "Rhamphochromis",
           "Rhamphochromis longiceps"
          ],
          [
           "SAMEA3388853",
           "Rhamphochromis",
           "Rhamphochromis longiceps"
          ],
          [
           "SAMEA3388856",
           "Rhamphochromis",
           "Rhamphochromis woodi"
          ],
          [
           "SAMEA3388873",
           "Rhamphochromis",
           "Rhamphochromis esox"
          ]
         ],
         "hovertemplate": "Ecogroup=%{customdata[1]}<br>PC1=%{x}<br>PC2=%{y}<br>SampleID=%{customdata[0]}<br>Organism=%{customdata[2]}<extra></extra>",
         "legendgroup": "Rhamphochromis",
         "marker": {
          "color": "#19d3f3",
          "symbol": "circle"
         },
         "mode": "markers",
         "name": "Rhamphochromis",
         "orientation": "v",
         "showlegend": true,
         "type": "scatter",
         "x": [
          0.0412188,
          0.040525,
          0.0403383,
          0.0397338,
          0.0406316,
          0.0404891,
          0.040247,
          0.0400659,
          0.0406838,
          0.0404796,
          0.0400541,
          0.0410313,
          0.0408943,
          0.041071,
          0.0394828,
          0.0405679,
          0.0387414,
          0.0400622,
          0.0403273
         ],
         "xaxis": "x",
         "y": [
          -0.106927,
          -0.105102,
          -0.105159,
          -0.103874,
          -0.105764,
          -0.105235,
          -0.105376,
          -0.104171,
          -0.105861,
          -0.105447,
          -0.104375,
          -0.10731,
          -0.106303,
          -0.106752,
          -0.101796,
          -0.105404,
          -0.100332,
          -0.103613,
          -0.103981
         ],
         "yaxis": "y"
        }
       ],
       "layout": {
        "legend": {
         "title": {
          "text": "Ecogroup"
         },
         "tracegroupgap": 0
        },
        "template": {
         "data": {
          "bar": [
           {
            "error_x": {
             "color": "#2a3f5f"
            },
            "error_y": {
             "color": "#2a3f5f"
            },
            "marker": {
             "line": {
              "color": "#E5ECF6",
              "width": 0.5
             },
             "pattern": {
              "fillmode": "overlay",
              "size": 10,
              "solidity": 0.2
             }
            },
            "type": "bar"
           }
          ],
          "barpolar": [
           {
            "marker": {
             "line": {
              "color": "#E5ECF6",
              "width": 0.5
             },
             "pattern": {
              "fillmode": "overlay",
              "size": 10,
              "solidity": 0.2
             }
            },
            "type": "barpolar"
           }
          ],
          "carpet": [
           {
            "aaxis": {
             "endlinecolor": "#2a3f5f",
             "gridcolor": "white",
             "linecolor": "white",
             "minorgridcolor": "white",
             "startlinecolor": "#2a3f5f"
            },
            "baxis": {
             "endlinecolor": "#2a3f5f",
             "gridcolor": "white",
             "linecolor": "white",
             "minorgridcolor": "white",
             "startlinecolor": "#2a3f5f"
            },
            "type": "carpet"
           }
          ],
          "choropleth": [
           {
            "colorbar": {
             "outlinewidth": 0,
             "ticks": ""
            },
            "type": "choropleth"
           }
          ],
          "contour": [
           {
            "colorbar": {
             "outlinewidth": 0,
             "ticks": ""
            },
            "colorscale": [
             [
              0,
              "#0d0887"
             ],
             [
              0.1111111111111111,
              "#46039f"
             ],
             [
              0.2222222222222222,
              "#7201a8"
             ],
             [
              0.3333333333333333,
              "#9c179e"
             ],
             [
              0.4444444444444444,
              "#bd3786"
             ],
             [
              0.5555555555555556,
              "#d8576b"
             ],
             [
              0.6666666666666666,
              "#ed7953"
             ],
             [
              0.7777777777777778,
              "#fb9f3a"
             ],
             [
              0.8888888888888888,
              "#fdca26"
             ],
             [
              1,
              "#f0f921"
             ]
            ],
            "type": "contour"
           }
          ],
          "contourcarpet": [
           {
            "colorbar": {
             "outlinewidth": 0,
             "ticks": ""
            },
            "type": "contourcarpet"
           }
          ],
          "heatmap": [
           {
            "colorbar": {
             "outlinewidth": 0,
             "ticks": ""
            },
            "colorscale": [
             [
              0,
              "#0d0887"
             ],
             [
              0.1111111111111111,
              "#46039f"
             ],
             [
              0.2222222222222222,
              "#7201a8"
             ],
             [
              0.3333333333333333,
              "#9c179e"
             ],
             [
              0.4444444444444444,
              "#bd3786"
             ],
             [
              0.5555555555555556,
              "#d8576b"
             ],
             [
              0.6666666666666666,
              "#ed7953"
             ],
             [
              0.7777777777777778,
              "#fb9f3a"
             ],
             [
              0.8888888888888888,
              "#fdca26"
             ],
             [
              1,
              "#f0f921"
             ]
            ],
            "type": "heatmap"
           }
          ],
          "heatmapgl": [
           {
            "colorbar": {
             "outlinewidth": 0,
             "ticks": ""
            },
            "colorscale": [
             [
              0,
              "#0d0887"
             ],
             [
              0.1111111111111111,
              "#46039f"
             ],
             [
              0.2222222222222222,
              "#7201a8"
             ],
             [
              0.3333333333333333,
              "#9c179e"
             ],
             [
              0.4444444444444444,
              "#bd3786"
             ],
             [
              0.5555555555555556,
              "#d8576b"
             ],
             [
              0.6666666666666666,
              "#ed7953"
             ],
             [
              0.7777777777777778,
              "#fb9f3a"
             ],
             [
              0.8888888888888888,
              "#fdca26"
             ],
             [
              1,
              "#f0f921"
             ]
            ],
            "type": "heatmapgl"
           }
          ],
          "histogram": [
           {
            "marker": {
             "pattern": {
              "fillmode": "overlay",
              "size": 10,
              "solidity": 0.2
             }
            },
            "type": "histogram"
           }
          ],
          "histogram2d": [
           {
            "colorbar": {
             "outlinewidth": 0,
             "ticks": ""
            },
            "colorscale": [
             [
              0,
              "#0d0887"
             ],
             [
              0.1111111111111111,
              "#46039f"
             ],
             [
              0.2222222222222222,
              "#7201a8"
             ],
             [
              0.3333333333333333,
              "#9c179e"
             ],
             [
              0.4444444444444444,
              "#bd3786"
             ],
             [
              0.5555555555555556,
              "#d8576b"
             ],
             [
              0.6666666666666666,
              "#ed7953"
             ],
             [
              0.7777777777777778,
              "#fb9f3a"
             ],
             [
              0.8888888888888888,
              "#fdca26"
             ],
             [
              1,
              "#f0f921"
             ]
            ],
            "type": "histogram2d"
           }
          ],
          "histogram2dcontour": [
           {
            "colorbar": {
             "outlinewidth": 0,
             "ticks": ""
            },
            "colorscale": [
             [
              0,
              "#0d0887"
             ],
             [
              0.1111111111111111,
              "#46039f"
             ],
             [
              0.2222222222222222,
              "#7201a8"
             ],
             [
              0.3333333333333333,
              "#9c179e"
             ],
             [
              0.4444444444444444,
              "#bd3786"
             ],
             [
              0.5555555555555556,
              "#d8576b"
             ],
             [
              0.6666666666666666,
              "#ed7953"
             ],
             [
              0.7777777777777778,
              "#fb9f3a"
             ],
             [
              0.8888888888888888,
              "#fdca26"
             ],
             [
              1,
              "#f0f921"
             ]
            ],
            "type": "histogram2dcontour"
           }
          ],
          "mesh3d": [
           {
            "colorbar": {
             "outlinewidth": 0,
             "ticks": ""
            },
            "type": "mesh3d"
           }
          ],
          "parcoords": [
           {
            "line": {
             "colorbar": {
              "outlinewidth": 0,
              "ticks": ""
             }
            },
            "type": "parcoords"
           }
          ],
          "pie": [
           {
            "automargin": true,
            "type": "pie"
           }
          ],
          "scatter": [
           {
            "fillpattern": {
             "fillmode": "overlay",
             "size": 10,
             "solidity": 0.2
            },
            "type": "scatter"
           }
          ],
          "scatter3d": [
           {
            "line": {
             "colorbar": {
              "outlinewidth": 0,
              "ticks": ""
             }
            },
            "marker": {
             "colorbar": {
              "outlinewidth": 0,
              "ticks": ""
             }
            },
            "type": "scatter3d"
           }
          ],
          "scattercarpet": [
           {
            "marker": {
             "colorbar": {
              "outlinewidth": 0,
              "ticks": ""
             }
            },
            "type": "scattercarpet"
           }
          ],
          "scattergeo": [
           {
            "marker": {
             "colorbar": {
              "outlinewidth": 0,
              "ticks": ""
             }
            },
            "type": "scattergeo"
           }
          ],
          "scattergl": [
           {
            "marker": {
             "colorbar": {
              "outlinewidth": 0,
              "ticks": ""
             }
            },
            "type": "scattergl"
           }
          ],
          "scattermapbox": [
           {
            "marker": {
             "colorbar": {
              "outlinewidth": 0,
              "ticks": ""
             }
            },
            "type": "scattermapbox"
           }
          ],
          "scatterpolar": [
           {
            "marker": {
             "colorbar": {
              "outlinewidth": 0,
              "ticks": ""
             }
            },
            "type": "scatterpolar"
           }
          ],
          "scatterpolargl": [
           {
            "marker": {
             "colorbar": {
              "outlinewidth": 0,
              "ticks": ""
             }
            },
            "type": "scatterpolargl"
           }
          ],
          "scatterternary": [
           {
            "marker": {
             "colorbar": {
              "outlinewidth": 0,
              "ticks": ""
             }
            },
            "type": "scatterternary"
           }
          ],
          "surface": [
           {
            "colorbar": {
             "outlinewidth": 0,
             "ticks": ""
            },
            "colorscale": [
             [
              0,
              "#0d0887"
             ],
             [
              0.1111111111111111,
              "#46039f"
             ],
             [
              0.2222222222222222,
              "#7201a8"
             ],
             [
              0.3333333333333333,
              "#9c179e"
             ],
             [
              0.4444444444444444,
              "#bd3786"
             ],
             [
              0.5555555555555556,
              "#d8576b"
             ],
             [
              0.6666666666666666,
              "#ed7953"
             ],
             [
              0.7777777777777778,
              "#fb9f3a"
             ],
             [
              0.8888888888888888,
              "#fdca26"
             ],
             [
              1,
              "#f0f921"
             ]
            ],
            "type": "surface"
           }
          ],
          "table": [
           {
            "cells": {
             "fill": {
              "color": "#EBF0F8"
             },
             "line": {
              "color": "white"
             }
            },
            "header": {
             "fill": {
              "color": "#C8D4E3"
             },
             "line": {
              "color": "white"
             }
            },
            "type": "table"
           }
          ]
         },
         "layout": {
          "annotationdefaults": {
           "arrowcolor": "#2a3f5f",
           "arrowhead": 0,
           "arrowwidth": 1
          },
          "autotypenumbers": "strict",
          "coloraxis": {
           "colorbar": {
            "outlinewidth": 0,
            "ticks": ""
           }
          },
          "colorscale": {
           "diverging": [
            [
             0,
             "#8e0152"
            ],
            [
             0.1,
             "#c51b7d"
            ],
            [
             0.2,
             "#de77ae"
            ],
            [
             0.3,
             "#f1b6da"
            ],
            [
             0.4,
             "#fde0ef"
            ],
            [
             0.5,
             "#f7f7f7"
            ],
            [
             0.6,
             "#e6f5d0"
            ],
            [
             0.7,
             "#b8e186"
            ],
            [
             0.8,
             "#7fbc41"
            ],
            [
             0.9,
             "#4d9221"
            ],
            [
             1,
             "#276419"
            ]
           ],
           "sequential": [
            [
             0,
             "#0d0887"
            ],
            [
             0.1111111111111111,
             "#46039f"
            ],
            [
             0.2222222222222222,
             "#7201a8"
            ],
            [
             0.3333333333333333,
             "#9c179e"
            ],
            [
             0.4444444444444444,
             "#bd3786"
            ],
            [
             0.5555555555555556,
             "#d8576b"
            ],
            [
             0.6666666666666666,
             "#ed7953"
            ],
            [
             0.7777777777777778,
             "#fb9f3a"
            ],
            [
             0.8888888888888888,
             "#fdca26"
            ],
            [
             1,
             "#f0f921"
            ]
           ],
           "sequentialminus": [
            [
             0,
             "#0d0887"
            ],
            [
             0.1111111111111111,
             "#46039f"
            ],
            [
             0.2222222222222222,
             "#7201a8"
            ],
            [
             0.3333333333333333,
             "#9c179e"
            ],
            [
             0.4444444444444444,
             "#bd3786"
            ],
            [
             0.5555555555555556,
             "#d8576b"
            ],
            [
             0.6666666666666666,
             "#ed7953"
            ],
            [
             0.7777777777777778,
             "#fb9f3a"
            ],
            [
             0.8888888888888888,
             "#fdca26"
            ],
            [
             1,
             "#f0f921"
            ]
           ]
          },
          "colorway": [
           "#636efa",
           "#EF553B",
           "#00cc96",
           "#ab63fa",
           "#FFA15A",
           "#19d3f3",
           "#FF6692",
           "#B6E880",
           "#FF97FF",
           "#FECB52"
          ],
          "font": {
           "color": "#2a3f5f"
          },
          "geo": {
           "bgcolor": "white",
           "lakecolor": "white",
           "landcolor": "#E5ECF6",
           "showlakes": true,
           "showland": true,
           "subunitcolor": "white"
          },
          "hoverlabel": {
           "align": "left"
          },
          "hovermode": "closest",
          "mapbox": {
           "style": "light"
          },
          "paper_bgcolor": "white",
          "plot_bgcolor": "#E5ECF6",
          "polar": {
           "angularaxis": {
            "gridcolor": "white",
            "linecolor": "white",
            "ticks": ""
           },
           "bgcolor": "#E5ECF6",
           "radialaxis": {
            "gridcolor": "white",
            "linecolor": "white",
            "ticks": ""
           }
          },
          "scene": {
           "xaxis": {
            "backgroundcolor": "#E5ECF6",
            "gridcolor": "white",
            "gridwidth": 2,
            "linecolor": "white",
            "showbackground": true,
            "ticks": "",
            "zerolinecolor": "white"
           },
           "yaxis": {
            "backgroundcolor": "#E5ECF6",
            "gridcolor": "white",
            "gridwidth": 2,
            "linecolor": "white",
            "showbackground": true,
            "ticks": "",
            "zerolinecolor": "white"
           },
           "zaxis": {
            "backgroundcolor": "#E5ECF6",
            "gridcolor": "white",
            "gridwidth": 2,
            "linecolor": "white",
            "showbackground": true,
            "ticks": "",
            "zerolinecolor": "white"
           }
          },
          "shapedefaults": {
           "line": {
            "color": "#2a3f5f"
           }
          },
          "ternary": {
           "aaxis": {
            "gridcolor": "white",
            "linecolor": "white",
            "ticks": ""
           },
           "baxis": {
            "gridcolor": "white",
            "linecolor": "white",
            "ticks": ""
           },
           "bgcolor": "#E5ECF6",
           "caxis": {
            "gridcolor": "white",
            "linecolor": "white",
            "ticks": ""
           }
          },
          "title": {
           "x": 0.05
          },
          "xaxis": {
           "automargin": true,
           "gridcolor": "white",
           "linecolor": "white",
           "ticks": "",
           "title": {
            "standoff": 15
           },
           "zerolinecolor": "white",
           "zerolinewidth": 2
          },
          "yaxis": {
           "automargin": true,
           "gridcolor": "white",
           "linecolor": "white",
           "ticks": "",
           "title": {
            "standoff": 15
           },
           "zerolinecolor": "white",
           "zerolinewidth": 2
          }
         }
        },
        "title": {
         "text": "PCA"
        },
        "xaxis": {
         "anchor": "y",
         "domain": [
          0,
          1
         ],
         "title": {
          "text": "PC1"
         }
        },
        "yaxis": {
         "anchor": "x",
         "domain": [
          0,
          1
         ],
         "title": {
          "text": "PC2"
         }
        }
       }
      }
     },
     "metadata": {},
     "output_type": "display_data"
    }
   ],
   "source": [
    "# Load the eigenvec file into a pandas dataframe\n",
    "df_eigenvec = pd.read_csv('/Users/kmnike/CichlidSRSequencing/cichlid_sr_sequencing/analysis_pipeline/plotly/test.eigenvec', sep=' ', header=None, index_col=0)\n",
    "header = ['SampleID'] + ['PC{}'.format(i) for i in range(1, 21)] # set header to 'SampleID' followed by PC1-20\n",
    "df_eigenvec.columns = header\n",
    "\n",
    "# Load the eigenval file into a pandas dataframe\n",
    "# df_eigenval = pd.read_csv('/Users/kmnike/CichlidSRSequencing/cichlid_sr_sequencing/analysis_pipeline/plotly/test.eigenval', header=None)\n",
    "\n",
    "# # Extract the eigenvalues as a list\n",
    "# eigenvals = df_eigenval[0].tolist()\n",
    "\n",
    "# Load the metadata file into a pandas dataframe\n",
    "df_metadata = pd.read_excel('/Users/kmnike/CichlidSRSequencing/cichlid_sr_sequencing/SampleDatabase.xlsx', sheet_name='vcf_samples')\n",
    "\n",
    "# Remove duplicate rows from the metadata dataframe\n",
    "df_metadata = df_metadata.drop_duplicates(subset='SampleID', keep='first')\n",
    "\n",
    "# Merge the eigenvec and metadata dataframes on their index (SampleID)\n",
    "df_merged = pd.merge(df_eigenvec, df_metadata, on=['SampleID'])\n",
    "\n",
    "# Create a dictionary mapping ecogroups to colors.  Uncommented since default colorition is good too \n",
    "# ecogroup_color_dict = {'AC': 'red', 'Riverine': 'blue', 'Deep_Benthic': 'green', 'Mbuna': 'orange', 'Shallow_Benthic': 'purple', 'Unknown': 'gray'}\n",
    "\n",
    "# Use plotly express to generate the scatter plot\n",
    "fig = px.scatter(df_merged, x='PC1', y='PC2', color='Ecogroup', title='PCA', hover_data=['SampleID', 'Ecogroup', 'Organism'])\n",
    "\n",
    "# Show the plot\n",
    "fig.show()\n",
    "fig.write_html('/Users/kmnike/Desktop/LG11_pca.html')\n"
   ]
  },
  {
   "cell_type": "markdown",
   "metadata": {},
   "source": []
  }
 ],
 "metadata": {
  "kernelspec": {
   "display_name": "mcgrath",
   "language": "python",
   "name": "python3"
  },
  "language_info": {
   "codemirror_mode": {
    "name": "ipython",
    "version": 3
   },
   "file_extension": ".py",
   "mimetype": "text/x-python",
   "name": "python",
   "nbconvert_exporter": "python",
   "pygments_lexer": "ipython3",
   "version": "3.11.0"
  },
  "orig_nbformat": 4
 },
 "nbformat": 4,
 "nbformat_minor": 2
}
