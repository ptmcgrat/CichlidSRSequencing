{
 "cells": [
  {
   "cell_type": "code",
   "execution_count": 1,
   "metadata": {},
   "outputs": [],
   "source": [
    "import pandas as pd"
   ]
  },
  {
   "cell_type": "code",
   "execution_count": 2,
   "metadata": {},
   "outputs": [],
   "source": [
    "r_df = pd.read_csv('/Users/kmnike/Downloads/samples.csv', header=None)\n",
    "s_df = pd.read_csv('/Users/kmnike/Data/CichlidSequencingData/Bamfiles/AlignmentDatabase.csv')"
   ]
  },
  {
   "cell_type": "code",
   "execution_count": 3,
   "metadata": {},
   "outputs": [],
   "source": [
    "all_samples = s_df[s_df['GenomeVersion'] == 'Mzebra_GT3'].SampleID.to_list()\n",
    "run_samples = r_df[0].to_list()"
   ]
  },
  {
   "cell_type": "code",
   "execution_count": 4,
   "metadata": {},
   "outputs": [],
   "source": [
    "missing_samples = list(set(all_samples) - set(run_samples))"
   ]
  },
  {
   "cell_type": "code",
   "execution_count": 5,
   "metadata": {},
   "outputs": [],
   "source": [
    "m_df = pd.DataFrame()\n",
    "m_df['MissingSamples'] = pd.DataFrame(missing_samples)\n"
   ]
  },
  {
   "cell_type": "code",
   "execution_count": 6,
   "metadata": {},
   "outputs": [],
   "source": [
    "m_df.to_csv('/Users/kmnike/Desktop/missing_samples.csv', index=False)"
   ]
  },
  {
   "cell_type": "code",
   "execution_count": 7,
   "metadata": {},
   "outputs": [
    {
     "data": {
      "text/plain": [
       "['SAMN08051119',\n",
       " 'SAMEA4032070',\n",
       " 'SAMEA4032033',\n",
       " 'SAMN08051114',\n",
       " 'SAMEA3388874',\n",
       " 'SAMEA4033276',\n",
       " 'MZ_1_m',\n",
       " 'SAMEA4033320',\n",
       " 'SAMN08051113',\n",
       " 'SAMEA4032067',\n",
       " 'SAMEA4032104']"
      ]
     },
     "execution_count": 7,
     "metadata": {},
     "output_type": "execute_result"
    }
   ],
   "source": [
    "missing_samples\n"
   ]
  },
  {
   "cell_type": "code",
   "execution_count": null,
   "metadata": {},
   "outputs": [],
   "source": []
  },
  {
   "cell_type": "code",
   "execution_count": null,
   "metadata": {},
   "outputs": [],
   "source": []
  }
 ],
 "metadata": {
  "kernelspec": {
   "display_name": "gatk",
   "language": "python",
   "name": "python3"
  },
  "language_info": {
   "codemirror_mode": {
    "name": "ipython",
    "version": 3
   },
   "file_extension": ".py",
   "mimetype": "text/x-python",
   "name": "python",
   "nbconvert_exporter": "python",
   "pygments_lexer": "ipython3",
   "version": "3.8.19"
  }
 },
 "nbformat": 4,
 "nbformat_minor": 2
}
