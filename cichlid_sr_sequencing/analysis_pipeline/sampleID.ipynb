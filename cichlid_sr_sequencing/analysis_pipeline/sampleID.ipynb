{
 "cells": [
  {
   "cell_type": "code",
   "execution_count": 1,
   "metadata": {},
   "outputs": [],
   "source": [
    "import argparse, pdb, os, subprocess, pathlib, pysam\n",
    "import pandas as pd\n",
    "from cyvcf2 import VCF\n",
    "from helper_modules.nikesh_file_manager import FileManager as FM"
   ]
  },
  {
   "cell_type": "code",
   "execution_count": 25,
   "metadata": {},
   "outputs": [
    {
     "data": {
      "text/plain": [
       "array(['ReferenceImprovement', 'RockSand_v1', 'PRJEB15289', 'PRJEB1254',\n",
       "       'BrainDiversity_s1', 'BigBrain'], dtype=object)"
      ]
     },
     "execution_count": 25,
     "metadata": {},
     "output_type": "execute_result"
    }
   ],
   "source": [
    "fm_obj = FM(\"Mzebra_UMD2a\")\n",
    "projectIDs = ['BrainDiversity_s1', 'BigBrain']\n",
    "alignment_df = pd.read_csv(fm_obj.localAlignmentFile)\n",
    "filtered_df = alignment_df[alignment_df['ProjectID'].isin(projectIDs)]\n",
    "sample_ids = filtered_df['SampleID'].tolist()\n",
    "# print(len(sample_ids))\n",
    "\n",
    "alignment_df['ProjectID'].unique()\n",
    "\n",
    "\n",
    "\n",
    "\n",
    "\n"
   ]
  },
  {
   "cell_type": "code",
   "execution_count": null,
   "metadata": {},
   "outputs": [],
   "source": []
  }
 ],
 "metadata": {
  "kernelspec": {
   "display_name": "variant",
   "language": "python",
   "name": "python3"
  },
  "language_info": {
   "codemirror_mode": {
    "name": "ipython",
    "version": 3
   },
   "file_extension": ".py",
   "mimetype": "text/x-python",
   "name": "python",
   "nbconvert_exporter": "python",
   "pygments_lexer": "ipython3",
   "version": "3.9.0"
  },
  "orig_nbformat": 4
 },
 "nbformat": 4,
 "nbformat_minor": 2
}
